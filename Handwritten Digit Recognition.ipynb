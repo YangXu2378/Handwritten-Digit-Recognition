{
 "cells": [
  {
   "cell_type": "markdown",
   "metadata": {},
   "source": [
    "# Handwritten Digit Recognition with Support Vector Machine "
   ]
  },
  {
   "cell_type": "markdown",
   "metadata": {},
   "source": [
    "Yang Xu (Net ID: yx2378)"
   ]
  },
  {
   "cell_type": "markdown",
   "metadata": {},
   "source": [
    "### 1. Introduction\n",
    "Digit recognition is one of the most challenging machine learning problems. The task is to take as input a picture of a single digit and classify which digit the picture represents. The data is a subset of the MNIST Database of handwritten digits. The data contains labeled train data and unlabeled test data, which are the gray-scale images of handwritten digits, from 0 through 9. Each image is 28 pixels in height and 28 pixels in width, for a total of 784 pixels in total. Each pixel has a single pixel-value between 0 and 255, inclusive. Since each pixel contains a numeric value, it can be regarded as a feature and can be used to train and evaluate machine learning algorithms."
   ]
  },
  {
   "cell_type": "markdown",
   "metadata": {},
   "source": [
    "### 2. Methods\n",
    "\n",
    "This project is done by Support Vector Machine (SVM), which has been proved to be an effective way to do digit recognition. SVM aims to find the optimal hyperplane that separates two classes with the maximal margin. In this project, I'm going to try two variaties of SVM: SVM with linear kernel and SVM with Gaussian kernel. The introduction for SVM can be found here https://en.wikipedia.org/wiki/Support_vector_machine\n",
    "\n",
    "\n",
    "### 3. Results\n",
    "\n",
    "The SVM with linear kernel assumes that the data is linearly separable. However, it is usually not true in real life, and therefore its average accuracy is only around 87.0% for this project. With kernel trick, the features are mapped from the given space into a very high dimensional space, therefore the data becomes linearly separable. Gaussian kernel performed super well on this problem, and it is given as $K(x, x') = exp(-\\gamma ||x - x'||^2)$. The method can achieve 97.3% average accuracy rate. The introduction about kernel method can be found here: https://en.wikipedia.org/wiki/Kernel_method\n",
    "\n",
    "### 4. Build SVM (Linear Kernel) From Scratch\n",
    "\n",
    "I've had experience of building SVM in R, however, R always passes object by copy, which makes it very slow to deal with big dataset. Therefore, it's worthwhile to learn how to build SVM from scratch in Python.\n",
    "\n",
    "Suppose we have n pairs of training data $(x_1, y_1), (x_2, y_2), ..., (x_n, y_n)$, where $x_i \\in R^d$, and $y_i \\in \\{-1, 1\\}$.\n",
    "\n",
    "The cost of SVM is\n",
    "\n",
    "$$f(w, b) = \\frac{1}{2} \\sum_{i=1}^d (w^{(j)})^2 + C \\sum_{i=1}^n max \\{0, 1 - y_i (\\sum_{i=1}^d w^{(j)} x_i^{(j)} + b)\\}$$\n",
    "\n",
    "Define $L(w, b; x_i, y_i) = max\\{0, 1 - y_i (\\sum_{i=1}^d w^{(j)} x_i^{(j)} + b)\\}$.\n",
    "\n",
    "Then $$\\nabla_{w^{(j)}} f(w, b) = \\frac{\\partial f(w,b)}{\\partial w^{(j)}} = w_j + C \\sum_{i=1}^n \\frac{\\partial L(w, b; x_i, y_i)}{\\partial w^{(j)}}$$\n",
    "\n",
    "and\n",
    "\n",
    "$$\\nabla_b f(w, b) = \\frac{\\partial f(w,b)}{\\partial b} = C \\sum_{i=1}^n \\frac{\\partial L(w, b; x_i, y_i)}{\\partial b}$$\n",
    "\n",
    "\n",
    "#### 4.1 Batch gradient descent\n",
    "\n",
    "- k = 0\n",
    "- while not converged do\n",
    "    * for j = 1, ..., d do\n",
    "    \n",
    "       - Update $w^{(j)} \\leftarrow w^{(j)} - \\eta \\nabla_{w(j)} f(w, b)$\n",
    "    \n",
    "    end for\n",
    "    \n",
    "    * Update $b \\leftarrow b - \\eta \\nabla_b f(w, b)$\n",
    "    * Update $k \\leftarrow k + 1$\n",
    "    \n",
    " end while\n",
    "\n",
    "#### 4.2 Mini-batch gradient descent\n",
    "\n",
    "- Randomly shuffle the training data\n",
    "- i = 1, k = 0\n",
    "- while not converged do\n",
    "    * for j = 1, ..., d do\n",
    "        \n",
    "         Update $w^{(j)} \\leftarrow w^{(j)} - \\eta \\nabla_{w(j)} f_i (w, b)$\n",
    "     \n",
    "    end for\n",
    "    \n",
    "    * Update $b \\leftarrow b - \\eta \\nabla_b f_i (w, b)$\n",
    "    * Update $i \\leftarrow i \\text{ mod } n$ \n",
    "    * Update $k \\leftarrow k + 1$\n",
    "    \n",
    " end while\n",
    "\n",
    "The algorithm is borrowed from the lecture slide of Statistical Machine Learning class."
   ]
  },
  {
   "cell_type": "markdown",
   "metadata": {},
   "source": [
    "### 5. Code dependency\n",
    "\n",
    "- numpy\n",
    "- pandas\n",
    "- scikit-learn\n",
    "- matplotlib\n",
    "- data: https://www.kaggle.com/c/digit-recognizer/data\n",
    "\n",
    "You will be able to run the following codes if you install the packages listed above and download the data."
   ]
  },
  {
   "cell_type": "markdown",
   "metadata": {},
   "source": [
    "### 6. Project Evaluation\n",
    "\n",
    "The problem encourtered in this project are mainly how to code the mathmatical formular correctly, and also how to vectorize the calculation to speed up the algorithm. \n",
    "\n",
    "Python is a good fit for this project, since it has well-maintained numerical analysis libraries such as Numpy. Numpy is able to deal with matrix operations in a very fast way, since it is mostly written in C and it avoids coping large data by passing by pointer/reference. Python also have the good support for data visualization, such as matplotlib. Additionally, the package scikit learn provides a set of common machine learning algorithms and a consistent interface, which makes machine laerning much easier. Therefore, I'm greatly happy with doing machine learning with Python, and I believe it will be helpful for my future career in data science. "
   ]
  },
  {
   "cell_type": "markdown",
   "metadata": {},
   "source": [
    "### 6. Code Structure\n",
    "\n",
    "- 6.1 Visualizing training data\n",
    "- 6.2 SVM with Linear Kernel Using Scikit-learn\n",
    "- 6.3 SVM with Gaussian Kernel Using Scikit-learn\n",
    "- 6.4. Build SVM from Scratch\n",
    "    * 6.4.1 Using Batch Gradient Descent\n",
    "    * 6.4.2 Using Mini-batch Gradient Descent"
   ]
  },
  {
   "cell_type": "code",
   "execution_count": 1,
   "metadata": {
    "collapsed": true
   },
   "outputs": [],
   "source": [
    "## import library\n",
    "import sys\n",
    "import numpy as np\n",
    "import pandas as pd\n",
    "import sklearn as sk\n",
    "from sklearn.model_selection import train_test_split\n",
    "from sklearn.svm import LinearSVC\n",
    "from sklearn.metrics import confusion_matrix\n",
    "from sklearn.metrics import accuracy_score\n",
    "from sklearn.model_selection import GridSearchCV\n",
    "from sklearn.svm import SVC"
   ]
  },
  {
   "cell_type": "code",
   "execution_count": 2,
   "metadata": {
    "collapsed": true
   },
   "outputs": [],
   "source": [
    "import matplotlib.pyplot as plt"
   ]
  },
  {
   "cell_type": "code",
   "execution_count": 3,
   "metadata": {
    "collapsed": true
   },
   "outputs": [],
   "source": [
    "%matplotlib inline"
   ]
  },
  {
   "cell_type": "markdown",
   "metadata": {},
   "source": [
    "### 6.1. Data Visualization"
   ]
  },
  {
   "cell_type": "code",
   "execution_count": 4,
   "metadata": {
    "collapsed": true
   },
   "outputs": [],
   "source": [
    "train = pd.read_csv('train.csv')\n",
    "test  = pd.read_csv('test.csv')\n",
    "y = train[\"label\"]\n",
    "X = train.drop(\"label\",1)\n",
    "X_train, X_test, y_train, y_test = train_test_split(\n",
    "     X, y, train_size = 0.3, test_size=0.3, random_state=1)"
   ]
  },
  {
   "cell_type": "code",
   "execution_count": 5,
   "metadata": {
    "scrolled": true
   },
   "outputs": [
    {
     "data": {
      "text/plain": [
       "<matplotlib.image.AxesImage at 0x128cdc710>"
      ]
     },
     "execution_count": 5,
     "metadata": {},
     "output_type": "execute_result"
    },
    {
     "data": {
      "image/png": "[encoded data removed]",
      "text/plain": [
       "<matplotlib.figure.Figure at 0x1171bf3c8>"
      ]
     },
     "metadata": {},
     "output_type": "display_data"
    }
   ],
   "source": [
    "one_img = train.iloc[10,1:].values.reshape([28, 28])\n",
    "plt.imshow(one_img)"
   ]
  },
  {
   "cell_type": "markdown",
   "metadata": {},
   "source": [
    "### 6.2. SVM with Linear Kernel Using Scikit-learn\n",
    "\n",
    "Using grid search to select the best performing paramter. It will take around 5 mins (it also depends on how many CPUs you have on your laptop)."
   ]
  },
  {
   "cell_type": "code",
   "execution_count": 6,
   "metadata": {
    "collapsed": true
   },
   "outputs": [],
   "source": [
    "# SVM with kernel = 'linear'\n",
    "linear_svm = LinearSVC(penalty='l2', loss='hinge', multi_class='ovr')\n",
    "\n",
    "C = [0.001, 0.01, 0.1, 1, 10]\n",
    "\n",
    "linear_svm_param_grid = dict(C = C)\n",
    "\n",
    "linear_svm_grid = GridSearchCV(linear_svm, linear_svm_param_grid, \n",
    "                               cv=4, \n",
    "                               scoring='accuracy', n_jobs = 4, verbose = 5)"
   ]
  },
  {
   "cell_type": "code",
   "execution_count": 7,
   "metadata": {
    "scrolled": true
   },
   "outputs": [
    {
     "name": "stdout",
     "output_type": "stream",
     "text": [
      "Fitting 4 folds for each of 5 candidates, totalling 20 fits\n",
      "[CV] C=0.001 .........................................................\n",
      "[CV] C=0.001 .........................................................\n",
      "[CV] C=0.001 .........................................................\n",
      "[CV] C=0.001 .........................................................\n",
      "[CV] .......................... C=0.001, score=0.849921, total= 1.0min\n",
      "[CV] C=0.01 ..........................................................\n",
      "[CV] .......................... C=0.001, score=0.857687, total= 1.1min\n",
      "[CV] C=0.01 ..........................................................\n",
      "[CV] .......................... C=0.001, score=0.858820, total= 1.2min\n",
      "[CV] C=0.01 ..........................................................\n",
      "[CV] .......................... C=0.001, score=0.853249, total= 1.2min\n",
      "[CV] C=0.01 ..........................................................\n",
      "[CV] ........................... C=0.01, score=0.848967, total= 1.1min\n",
      "[CV] C=0.1 ...........................................................\n",
      "[CV] ........................... C=0.01, score=0.852932, total= 1.2min\n",
      "[CV] C=0.1 ...........................................................\n",
      "[CV] ........................... C=0.01, score=0.857687, total= 1.2min\n",
      "[CV] C=0.1 ...........................................................\n",
      "[CV] ........................... C=0.01, score=0.857868, total= 1.2min\n",
      "[CV] C=0.1 ...........................................................\n",
      "[CV] ............................ C=0.1, score=0.851510, total=  38.6s\n",
      "[CV] C=1 .............................................................\n",
      "[CV] ............................ C=0.1, score=0.832013, total=  43.9s\n",
      "[CV] C=1 .............................................................\n"
     ]
    },
    {
     "name": "stderr",
     "output_type": "stream",
     "text": [
      "[Parallel(n_jobs=4)]: Done  10 tasks      | elapsed:  3.0min\n"
     ]
    },
    {
     "name": "stdout",
     "output_type": "stream",
     "text": [
      "[CV] ............................ C=0.1, score=0.865165, total=  41.9s\n",
      "[CV] C=1 .............................................................\n",
      "[CV] ............................ C=0.1, score=0.852922, total=  40.4s\n",
      "[CV] C=1 .............................................................\n",
      "[CV] .............................. C=1, score=0.859777, total=  32.9s\n",
      "[CV] C=10 ............................................................\n",
      "[CV] .............................. C=1, score=0.862770, total=  34.6s\n",
      "[CV] C=10 ............................................................\n",
      "[CV] .............................. C=1, score=0.845959, total=  35.8s\n",
      "[CV] .............................. C=1, score=0.843274, total=  35.3s\n",
      "[CV] C=10 ............................................................\n",
      "[CV] C=10 ............................................................\n",
      "[CV] ............................. C=10, score=0.853418, total=  32.4s\n",
      "[CV] ............................. C=10, score=0.858954, total=  35.0s\n",
      "[CV] ............................. C=10, score=0.861817, total=  33.5s\n"
     ]
    },
    {
     "name": "stderr",
     "output_type": "stream",
     "text": [
      "[Parallel(n_jobs=4)]: Done  18 out of  20 | elapsed:  4.2min remaining:   27.9s\n"
     ]
    },
    {
     "name": "stdout",
     "output_type": "stream",
     "text": [
      "[CV] ............................. C=10, score=0.869924, total=  34.0s\n"
     ]
    },
    {
     "name": "stderr",
     "output_type": "stream",
     "text": [
      "[Parallel(n_jobs=4)]: Done  20 out of  20 | elapsed:  4.2min finished\n"
     ]
    },
    {
     "data": {
      "text/plain": [
       "GridSearchCV(cv=4, error_score='raise',\n",
       "       estimator=LinearSVC(C=1.0, class_weight=None, dual=True, fit_intercept=True,\n",
       "     intercept_scaling=1, loss='hinge', max_iter=1000, multi_class='ovr',\n",
       "     penalty='l2', random_state=None, tol=0.0001, verbose=0),\n",
       "       fit_params={}, iid=True, n_jobs=4,\n",
       "       param_grid={'C': [0.001, 0.01, 0.1, 1, 10]},\n",
       "       pre_dispatch='2*n_jobs', refit=True, return_train_score=True,\n",
       "       scoring='accuracy', verbose=5)"
      ]
     },
     "execution_count": 7,
     "metadata": {},
     "output_type": "execute_result"
    }
   ],
   "source": [
    "linear_svm_grid.fit(X_train, y_train)"
   ]
  },
  {
   "cell_type": "code",
   "execution_count": 8,
   "metadata": {},
   "outputs": [
    {
     "data": {
      "text/plain": [
       "{'C': 10}"
      ]
     },
     "execution_count": 8,
     "metadata": {},
     "output_type": "execute_result"
    }
   ],
   "source": [
    "linear_svm_grid.best_params_"
   ]
  },
  {
   "cell_type": "code",
   "execution_count": 9,
   "metadata": {},
   "outputs": [
    {
     "name": "stdout",
     "output_type": "stream",
     "text": [
      "accuracy rate: 0.866904761905\n"
     ]
    }
   ],
   "source": [
    "linear_svm_y_pred = linear_svm_grid.predict(X_test)\n",
    "\n",
    "# accuracy\n",
    "print(\"accuracy rate:\", accuracy_score(y_test, linear_svm_y_pred))"
   ]
  },
  {
   "cell_type": "markdown",
   "metadata": {},
   "source": [
    "So, the accuracy rate is around 86.7%."
   ]
  },
  {
   "cell_type": "markdown",
   "metadata": {},
   "source": [
    "### 6.3. SVM with Gaussian Kernel Using Scikit-learn"
   ]
  },
  {
   "cell_type": "code",
   "execution_count": 10,
   "metadata": {
    "collapsed": true
   },
   "outputs": [],
   "source": [
    "# SVM, Gaussian Kernel\n",
    "gauss_svm = SVC(kernel = 'rbf', decision_function_shape ='ovr')\n",
    "\n",
    "gamma = [0.00000001, 0.00000005, 0.0000001, 0.0000005]\n",
    "C = [0.1, 1, 10]\n",
    "\n",
    "# http://scikit-learn.org/stable/auto_examples/svm/plot_rbf_parameters.html\n",
    "# very sensitive to gamma\n",
    "# choose smaller C to favor model that use less memory\n",
    "\n",
    "gauss_svm_param_grid = dict(C = C, gamma = gamma)\n",
    "\n",
    "gauss_svm_grid = GridSearchCV(gauss_svm, gauss_svm_param_grid, cv=4, scoring='accuracy',\n",
    "                             verbose = 5, n_jobs = -1)"
   ]
  },
  {
   "cell_type": "code",
   "execution_count": 11,
   "metadata": {
    "scrolled": true
   },
   "outputs": [
    {
     "name": "stdout",
     "output_type": "stream",
     "text": [
      "Fitting 4 folds for each of 12 candidates, totalling 48 fits\n",
      "[CV] C=0.1, gamma=1e-08 ..............................................\n",
      "[CV] C=0.1, gamma=1e-08 ..............................................\n",
      "[CV] C=0.1, gamma=1e-08 ..............................................\n",
      "[CV] C=0.1, gamma=1e-08 ..............................................\n",
      "[CV] ............... C=0.1, gamma=1e-08, score=0.781240, total= 5.4min\n",
      "[CV] C=0.1, gamma=5e-08 ..............................................\n",
      "[CV] ............... C=0.1, gamma=1e-08, score=0.787322, total= 5.4min\n",
      "[CV] C=0.1, gamma=5e-08 ..............................................\n",
      "[CV] ............... C=0.1, gamma=1e-08, score=0.789975, total= 5.4min\n",
      "[CV] C=0.1, gamma=5e-08 ..............................................\n",
      "[CV] ............... C=0.1, gamma=1e-08, score=0.783037, total= 5.4min\n",
      "[CV] C=0.1, gamma=5e-08 ..............................................\n",
      "[CV] ............... C=0.1, gamma=5e-08, score=0.890228, total= 2.6min\n",
      "[CV] C=0.1, gamma=1e-07 ..............................................\n",
      "[CV] ............... C=0.1, gamma=5e-08, score=0.889065, total= 2.6min\n",
      "[CV] C=0.1, gamma=1e-07 ..............................................\n",
      "[CV] ............... C=0.1, gamma=5e-08, score=0.884897, total= 2.6min\n",
      "[CV] C=0.1, gamma=1e-07 ..............................................\n",
      "[CV] ............... C=0.1, gamma=5e-08, score=0.901525, total= 2.6min\n",
      "[CV] C=0.1, gamma=1e-07 ..............................................\n",
      "[CV] ............... C=0.1, gamma=1e-07, score=0.909667, total= 2.6min\n",
      "[CV] C=0.1, gamma=5e-07 ..............................................\n",
      "[CV] ............... C=0.1, gamma=1e-07, score=0.914340, total= 2.6min\n",
      "[CV] C=0.1, gamma=5e-07 ..............................................\n"
     ]
    },
    {
     "name": "stderr",
     "output_type": "stream",
     "text": [
      "[Parallel(n_jobs=-1)]: Done  10 tasks      | elapsed: 16.7min\n"
     ]
    },
    {
     "name": "stdout",
     "output_type": "stream",
     "text": [
      "[CV] ............... C=0.1, gamma=1e-07, score=0.907472, total= 2.6min\n",
      "[CV] C=0.1, gamma=5e-07 ..............................................\n",
      "[CV] ............... C=0.1, gamma=1e-07, score=0.921537, total= 2.7min\n",
      "[CV] C=0.1, gamma=5e-07 ..............................................\n",
      "[CV] ............... C=0.1, gamma=5e-07, score=0.933122, total= 2.3min\n",
      "[CV] C=1, gamma=1e-08 ................................................\n",
      "[CV] ............... C=0.1, gamma=5e-07, score=0.937183, total= 2.3min\n",
      "[CV] C=1, gamma=1e-08 ................................................\n",
      "[CV] ............... C=0.1, gamma=5e-07, score=0.928458, total= 2.3min\n",
      "[CV] C=1, gamma=1e-08 ................................................\n",
      "[CV] ............... C=0.1, gamma=5e-07, score=0.941233, total= 2.3min\n",
      "[CV] C=1, gamma=1e-08 ................................................\n",
      "[CV] ................. C=1, gamma=1e-08, score=0.907043, total= 2.0min\n",
      "[CV] C=1, gamma=5e-08 ................................................\n",
      "[CV] ................. C=1, gamma=1e-08, score=0.907132, total= 2.0min\n",
      "[CV] C=1, gamma=5e-08 ................................................\n",
      "[CV] ................. C=1, gamma=1e-08, score=0.901431, total= 2.0min\n",
      "[CV] C=1, gamma=5e-08 ................................................\n",
      "[CV] ................. C=1, gamma=1e-08, score=0.914867, total= 2.0min\n",
      "[CV] C=1, gamma=5e-08 ................................................\n",
      "[CV] ................. C=1, gamma=5e-08, score=0.934962, total=  57.1s\n",
      "[CV] C=1, gamma=1e-07 ................................................\n",
      "[CV] ................. C=1, gamma=5e-08, score=0.937242, total=  58.3s\n",
      "[CV] C=1, gamma=1e-07 ................................................\n",
      "[CV] ................. C=1, gamma=5e-08, score=0.926868, total=  57.6s\n",
      "[CV] C=1, gamma=1e-07 ................................................\n",
      "[CV] ................. C=1, gamma=5e-08, score=0.937103, total=  58.4s\n",
      "[CV] C=1, gamma=1e-07 ................................................\n",
      "[CV] ................. C=1, gamma=1e-07, score=0.952456, total=  57.6s\n",
      "[CV] C=1, gamma=5e-07 ................................................\n",
      "[CV] ................. C=1, gamma=1e-07, score=0.952094, total=  58.1s\n",
      "[CV] C=1, gamma=5e-07 ................................................\n",
      "[CV] ................. C=1, gamma=1e-07, score=0.940541, total= 1.0min\n",
      "[CV] C=1, gamma=5e-07 ................................................\n",
      "[CV] ................. C=1, gamma=1e-07, score=0.954892, total= 1.0min\n",
      "[CV] C=1, gamma=5e-07 ................................................\n",
      "[CV] ................. C=1, gamma=5e-07, score=0.972108, total= 2.5min\n",
      "[CV] C=10, gamma=1e-08 ...............................................\n",
      "[CV] ................. C=1, gamma=5e-07, score=0.969860, total= 2.5min\n",
      "[CV] C=10, gamma=1e-08 ...............................................\n",
      "[CV] ................. C=1, gamma=5e-07, score=0.972999, total= 2.5min\n",
      "[CV] C=10, gamma=1e-08 ...............................................\n",
      "[CV] ................. C=1, gamma=5e-07, score=0.964706, total= 2.5min\n",
      "[CV] C=10, gamma=1e-08 ...............................................\n",
      "[CV] ................ C=10, gamma=1e-08, score=0.935341, total= 1.2min\n",
      "[CV] C=10, gamma=5e-08 ...............................................\n",
      "[CV] ................ C=10, gamma=1e-08, score=0.933058, total= 1.2min\n",
      "[CV] C=10, gamma=5e-08 ...............................................\n",
      "[CV] ................ C=10, gamma=1e-08, score=0.938691, total= 1.2min\n",
      "[CV] C=10, gamma=5e-08 ...............................................\n",
      "[CV] ................ C=10, gamma=1e-08, score=0.926550, total= 1.2min\n",
      "[CV] C=10, gamma=5e-08 ...............................................\n",
      "[CV] ................ C=10, gamma=5e-08, score=0.960977, total=  59.4s\n",
      "[CV] ................ C=10, gamma=5e-08, score=0.957211, total= 1.0min\n",
      "[CV] C=10, gamma=1e-07 ...............................................\n",
      "[CV] C=10, gamma=1e-07 ...............................................\n",
      "[CV] ................ C=10, gamma=5e-08, score=0.958069, total= 1.0min\n",
      "[CV] C=10, gamma=1e-07 ...............................................\n",
      "[CV] ................ C=10, gamma=5e-08, score=0.947218, total= 1.0min\n",
      "[CV] C=10, gamma=1e-07 ...............................................\n",
      "[CV] ................ C=10, gamma=1e-07, score=0.967640, total=  49.6s\n",
      "[CV] C=10, gamma=5e-07 ...............................................\n",
      "[CV] ................ C=10, gamma=1e-07, score=0.964184, total=  50.6s\n",
      "[CV] C=10, gamma=5e-07 ...............................................\n",
      "[CV] ................ C=10, gamma=1e-07, score=0.957393, total=  48.5s\n",
      "[CV] C=10, gamma=5e-07 ...............................................\n",
      "[CV] ................ C=10, gamma=1e-07, score=0.966645, total=  49.8s\n",
      "[CV] C=10, gamma=5e-07 ...............................................\n",
      "[CV] ................ C=10, gamma=5e-07, score=0.972425, total= 2.5min\n",
      "[CV] ................ C=10, gamma=5e-07, score=0.973350, total= 2.5min\n",
      "[CV] ................ C=10, gamma=5e-07, score=0.976175, total= 2.5min\n",
      "[CV] ................ C=10, gamma=5e-07, score=0.965978, total= 2.5min\n"
     ]
    },
    {
     "name": "stderr",
     "output_type": "stream",
     "text": [
      "[Parallel(n_jobs=-1)]: Done  48 out of  48 | elapsed: 41.9min finished\n"
     ]
    },
    {
     "data": {
      "text/plain": [
       "GridSearchCV(cv=4, error_score='raise',\n",
       "       estimator=SVC(C=1.0, cache_size=200, class_weight=None, coef0=0.0,\n",
       "  decision_function_shape='ovr', degree=3, gamma='auto', kernel='rbf',\n",
       "  max_iter=-1, probability=False, random_state=None, shrinking=True,\n",
       "  tol=0.001, verbose=False),\n",
       "       fit_params={}, iid=True, n_jobs=-1,\n",
       "       param_grid={'C': [0.1, 1, 10], 'gamma': [1e-08, 5e-08, 1e-07, 5e-07]},\n",
       "       pre_dispatch='2*n_jobs', refit=True, return_train_score=True,\n",
       "       scoring='accuracy', verbose=5)"
      ]
     },
     "execution_count": 11,
     "metadata": {},
     "output_type": "execute_result"
    }
   ],
   "source": [
    "gauss_svm_grid.fit(X_train, y_train)"
   ]
  },
  {
   "cell_type": "code",
   "execution_count": 12,
   "metadata": {},
   "outputs": [
    {
     "name": "stdout",
     "output_type": "stream",
     "text": [
      "accuracy rate: 0.974761904762\n"
     ]
    }
   ],
   "source": [
    "# predict\n",
    "gauss_svm_y_pred = gauss_svm_grid.predict(X_test)\n",
    "\n",
    "# accuracy\n",
    "print(\"accuracy rate:\", accuracy_score(y_test, gauss_svm_y_pred))"
   ]
  },
  {
   "cell_type": "markdown",
   "metadata": {},
   "source": [
    "So, the accuracy rate is around 97.5%, which is much better than SVM with Gaussian kernel."
   ]
  },
  {
   "cell_type": "markdown",
   "metadata": {},
   "source": [
    "### 6.4. Build SVM from Scratch"
   ]
  },
  {
   "cell_type": "code",
   "execution_count": 6,
   "metadata": {
    "collapsed": true
   },
   "outputs": [],
   "source": [
    "def cost_pct_change(pre_cost, cur_cost):\n",
    "    return np.abs(pre_cost - cur_cost)*100.0/pre_cost\n",
    "\n",
    "    \n",
    "def cost(X, y, w, b, C):\n",
    "    '''\n",
    "    Calculate the cost.\n",
    "    '''\n",
    "    penalty = 1 - np.multiply(y, np.dot(X, w) + b)\n",
    "    penalty[penalty < 0] = 0\n",
    "\n",
    "    cost = 1.0/2*sum(w ** 2) + C * np.sum(penalty) \n",
    "    return cost\n",
    "\n",
    "def accuracy_rate(y_true, y_pred):\n",
    "    return np.mean(y_true == y_pred)"
   ]
  },
  {
   "cell_type": "code",
   "execution_count": 7,
   "metadata": {
    "collapsed": true
   },
   "outputs": [],
   "source": [
    "# data: predict 2 and 7, 2 -> 1, 7 -> -1\n",
    "X_train_binary = X_train[(y_train == 2) | (y_train == 7)]\n",
    "y_train_binary = y_train[(y_train == 2) | (y_train == 7)]\n",
    "y_train_binary[y_train_binary == 2] = 1.0\n",
    "y_train_binary[y_train_binary == 7] = -1.0\n",
    "\n",
    "X_test_binary =  X_test[(y_test == 2) | (y_test == 7)]\n",
    "y_test_binary =  y_test[(y_test == 2) | (y_test == 7)]\n",
    "y_test_binary[y_test_binary == 2] = 1\n",
    "y_test_binary[y_test_binary == 7] = -1"
   ]
  },
  {
   "cell_type": "markdown",
   "metadata": {},
   "source": [
    "### 6.4.1 Batch Gradient Descent"
   ]
  },
  {
   "cell_type": "code",
   "execution_count": 8,
   "metadata": {
    "collapsed": true
   },
   "outputs": [],
   "source": [
    "def batch_gd(X, y, w0, b0 = 0, eta = 0.0000003, epsilon = 0.25, C = 100):\n",
    "    '''\n",
    "    X: A (n, d) numpy array.\n",
    "    y: A (n, ) numpy array.\n",
    "    w0: A (d, ) numpy array. The initial value for the weight.\n",
    "    b0: A scalar. The initial value for intercept.\n",
    "    eta: learning rate of the gradient descent.\n",
    "    epsilon: the convergence criteria.\n",
    "    C: A scalar. The tuning parameter for penalty in svm.\n",
    "    '''\n",
    "    \n",
    "    def derivative(X, y, w, b, C):\n",
    "        '''\n",
    "        Calculate the derivative.\n",
    "        '''\n",
    "        criteria = y * (np.dot(X, w) + b) \n",
    "\n",
    "        deri_w = -1.0*(X.T * y).T # n by d matrix\n",
    "        deri_w[(criteria>=1),] = 0\n",
    "\n",
    "        deri_b = -1.0 * y\n",
    "        deri_b[(criteria>=1)] = 0\n",
    "\n",
    "        # (derivative w.r.t w, derivative w.r.t b)\n",
    "        return (w + C * np.sum(deri_w, axis = 0), C * np.sum(deri_b))\n",
    "\n",
    "    \n",
    "    pre_w = w0\n",
    "    pre_b = b0\n",
    "        \n",
    "    pre_cost = sys.maxsize\n",
    "    cur_cost = cost(X, y, pre_w, pre_b, C)\n",
    "    \n",
    "    all_cost = [cur_cost]\n",
    "    \n",
    "    while cost_pct_change(pre_cost, cur_cost) >= epsilon:\n",
    "        \n",
    "        all_derivative = derivative(X, y, pre_w, pre_b, C)\n",
    "        # update w\n",
    "        cur_w = pre_w - eta * all_derivative[0]\n",
    "        \n",
    "        # update b\n",
    "        cur_b = pre_b - eta * all_derivative[1]\n",
    "\n",
    "        # update cost\n",
    "        pre_cost = cur_cost\n",
    "        cur_cost = cost(X, y, cur_w, cur_b, C)\n",
    "        all_cost.append(cur_cost)\n",
    "        \n",
    "        pre_w = cur_w\n",
    "        pre_b = cur_b\n",
    "        \n",
    "    return (cur_w, cur_b, all_cost)\n",
    "    "
   ]
  },
  {
   "cell_type": "code",
   "execution_count": 9,
   "metadata": {},
   "outputs": [
    {
     "name": "stdout",
     "output_type": "stream",
     "text": [
      "CPU times: user 5.37 s, sys: 2.39 s, total: 7.77 s\n",
      "Wall time: 14.9 s\n"
     ]
    }
   ],
   "source": [
    "%%time\n",
    "w0 = np.zeros( X_train_binary.shape[1] )\n",
    "final_w, final_b, batch_cost = batch_gd(X_train_binary.values, y_train_binary.values, w0, b0 = 0, \n",
    "                                        eta = 0.0000003, epsilon = 0.25, C = 100)\n",
    "batch_cost = pd.DataFrame(batch_cost[1:])"
   ]
  },
  {
   "cell_type": "markdown",
   "metadata": {},
   "source": [
    "It takes around 14.9 seconds to execture the program. (Depends on the computing speed of your laptop.)"
   ]
  },
  {
   "cell_type": "code",
   "execution_count": 10,
   "metadata": {},
   "outputs": [
    {
     "data": {
      "text/plain": [
       "<matplotlib.axes._subplots.AxesSubplot at 0x128c89ac8>"
      ]
     },
     "execution_count": 10,
     "metadata": {},
     "output_type": "execute_result"
    },
    {
     "data": {
      "image/png": "[encoded data removed]",
      "text/plain": [
       "<matplotlib.figure.Figure at 0x116f7b978>"
      ]
     },
     "metadata": {},
     "output_type": "display_data"
    }
   ],
   "source": [
    "# visualize the cost function\n",
    "ax = batch_cost.plot(title = \"Cost function vs. number of iterations\", legend=False)\n",
    "ax.set_xlabel(\"number of interations\")\n",
    "ax.set_ylabel(\"cost function\")\n",
    "ax"
   ]
  },
  {
   "cell_type": "markdown",
   "metadata": {},
   "source": [
    "As we can see from the above graph, the cost function decreased smoothly, which is what we expected. "
   ]
  },
  {
   "cell_type": "code",
   "execution_count": 11,
   "metadata": {},
   "outputs": [
    {
     "data": {
      "text/plain": [
       "0.97915027537372146"
      ]
     },
     "execution_count": 11,
     "metadata": {},
     "output_type": "execute_result"
    }
   ],
   "source": [
    "# accuracy rate\n",
    "y_test_pred = np.dot(X_test_binary, final_w) + final_b\n",
    "y_test_pred[y_test_pred >= 0] = 1\n",
    "y_test_pred[y_test_pred < 0] = -1\n",
    "accuracy_rate(y_test_pred, y_test_binary)"
   ]
  },
  {
   "cell_type": "markdown",
   "metadata": {},
   "source": [
    "As we can see from the above, the accuracy rate is around 97.9% to tell digit 2 from digit 7."
   ]
  },
  {
   "cell_type": "markdown",
   "metadata": {},
   "source": [
    "### 6.4.2 Minibatch Gradient Descent"
   ]
  },
  {
   "cell_type": "code",
   "execution_count": 22,
   "metadata": {
    "collapsed": true
   },
   "outputs": [],
   "source": [
    "def minibatch_gd(X, y, w0, b0 = 0, eta = 5e-7, epsilon = 0.01, C = 0.01, batch_size = 100):\n",
    "    #def minibatch_gd(X, y, w0, b0 = 0, eta = 0.1, epsilon = 0.01, C = 0.01, batch_size = 20):\n",
    "    '''\n",
    "    X: A (n, d) numpy array.\n",
    "    y: A (n, ) numpy array.\n",
    "    w0: A (d, ) numpy array. The initial value for the weight.\n",
    "    b0: A scalar. The initial value for intercept.\n",
    "    eta: learning rate of the gradient descent.\n",
    "    epsilon: the convergence criteria.\n",
    "    C: A scalar. The tuning parameter for penalty in svm.\n",
    "    '''\n",
    "    \n",
    "    def derivative(X, y, w, b, C):\n",
    "        '''\n",
    "        Calculate the derivative.\n",
    "        '''\n",
    "        criteria = y * (np.dot(X, w) + b) \n",
    "\n",
    "        deri_w = -1.0*(X.T * y).T # n by d matrix\n",
    "        deri_w[criteria>=1,] = 0\n",
    "\n",
    "        deri_b = -1.0 * y\n",
    "        deri_b[criteria>=1] = 0\n",
    "\n",
    "        # (derivative w.r.t w, derivative w.r.t b)\n",
    "        return (w + C * np.sum(deri_w, axis = 0), C * np.sum(deri_b))\n",
    "\n",
    "    \n",
    "    # randomly shuffle the training data\n",
    "    np.random.shuffle(X)\n",
    "    n = X.shape[0]\n",
    "    \n",
    "    pre_w = w0\n",
    "    pre_b = b0\n",
    "        \n",
    "    pre_cost = 10000\n",
    "    cur_cost = cost(X, y, pre_w, pre_b, C)\n",
    "    all_cost = [cur_cost]\n",
    "    \n",
    "    pre_cost_cache = [pre_cost] \n",
    "    cur_cost_cache = [cur_cost]\n",
    "    diff = np.abs(np.mean(pre_cost_cache) - np.mean(cur_cost_cache))\n",
    "    \n",
    "    l = 0\n",
    "\n",
    "    while diff >= epsilon:\n",
    "        #print(diff) \n",
    "        all_derivative = derivative(X[int(l*batch_size): int(min(n, (l+1)*batch_size)), ],\n",
    "                                    y[int(l*batch_size): int(min(n, (l+1)*batch_size))  ], \n",
    "                                    pre_w, pre_b, C)\n",
    "        # update w\n",
    "        cur_w = pre_w - eta * all_derivative[0]\n",
    "        \n",
    "        # update b\n",
    "        cur_b = pre_b - eta * all_derivative[1]\n",
    "\n",
    "        # update cost\n",
    "        cur_cost = cost(X, y, cur_w, cur_b, C)\n",
    "        all_cost.append(cur_cost)\n",
    "        cur_cost_cache.append(cur_cost)\n",
    "        \n",
    "        pre_w = cur_w\n",
    "        pre_b = cur_b\n",
    "        \n",
    "        l = (l+1) % int((n + batch_size - 1)/batch_size)\n",
    "        #print(l)\n",
    "        if l == 0:\n",
    "            diff = np.abs(np.mean(pre_cost_cache) - np.mean(cur_cost_cache))\n",
    "            #print(diff)\n",
    "            pre_cost_cache = cur_cost_cache\n",
    "            cur_cost_cache = []\n",
    "        \n",
    "    return all_cost"
   ]
  },
  {
   "cell_type": "code",
   "execution_count": 23,
   "metadata": {},
   "outputs": [
    {
     "name": "stdout",
     "output_type": "stream",
     "text": [
      "CPU times: user 23.8 s, sys: 6.03 s, total: 29.8 s\n",
      "Wall time: 15.5 s\n"
     ]
    }
   ],
   "source": [
    "%%time\n",
    "w0 = np.zeros( X_train_binary.shape[1] )\n",
    "minibatch_cost = minibatch_gd(X_train_binary.values, y_train_binary.values, w0, b0 = 0)\n",
    "minibatch_cost = pd.DataFrame(minibatch_cost)"
   ]
  },
  {
   "cell_type": "markdown",
   "metadata": {},
   "source": [
    "It takes around 15.5 seconds to execture the program. (Depends on the computing speed of your laptop.)"
   ]
  },
  {
   "cell_type": "code",
   "execution_count": 24,
   "metadata": {
    "scrolled": true
   },
   "outputs": [
    {
     "data": {
      "text/plain": [
       "<matplotlib.axes._subplots.AxesSubplot at 0x117b638d0>"
      ]
     },
     "execution_count": 24,
     "metadata": {},
     "output_type": "execute_result"
    },
    {
     "data": {
      "image/png": "[encoded data removed]",
      "text/plain": [
       "<matplotlib.figure.Figure at 0x117ca98d0>"
      ]
     },
     "metadata": {},
     "output_type": "display_data"
    }
   ],
   "source": [
    "# visualize the cost function\n",
    "ax = minibatch_cost.plot(title = \"Cost function vs. number of iterations\", legend=False)\n",
    "ax.set_xlabel(\"number of interations\")\n",
    "ax.set_ylabel(\"cost function\")\n",
    "ax"
   ]
  },
  {
   "cell_type": "markdown",
   "metadata": {},
   "source": [
    "As we can see from the above graph, the cost function decreased, but there was some oscillation, which is what we expected. "
   ]
  },
  {
   "cell_type": "markdown",
   "metadata": {},
   "source": [
    "### 6.5. Comparison of Batch Gradient Descent and Minibatch Gradient Descent"
   ]
  },
  {
   "cell_type": "markdown",
   "metadata": {},
   "source": [
    "- Batch gradient descent computes the gradient using the whole dataset. It usually converges slower than minibatch gradient descent. (This dataset is small, so batch gradient descent is faster than minibatch gradient descent)\n",
    "\n",
    "- Minibatch gradient descent makes it easier for online learning, since user can always update the weight when new data comes. Therefore, minibatch gradient descent is widely applied in industry."
   ]
  },
  {
   "cell_type": "code",
   "execution_count": null,
   "metadata": {
    "collapsed": true
   },
   "outputs": [],
   "source": []
  },
  {
   "cell_type": "code",
   "execution_count": null,
   "metadata": {
    "collapsed": true
   },
   "outputs": [],
   "source": []
  }
 ],
 "metadata": {
  "kernelspec": {
   "display_name": "Python 3",
   "language": "python",
   "name": "python3"
  },
  "language_info": {
   "codemirror_mode": {
    "name": "ipython",
    "version": 3
   },
   "file_extension": ".py",
   "mimetype": "text/x-python",
   "name": "python",
   "nbconvert_exporter": "python",
   "pygments_lexer": "ipython3",
   "version": "3.6.1"
  }
 },
 "nbformat": 4,
 "nbformat_minor": 1
}
